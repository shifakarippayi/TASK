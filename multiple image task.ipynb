{
 "cells": [
  {
   "cell_type": "code",
   "execution_count": 1,
   "id": "fc6dc811-7745-40bf-a7c6-17ed085fcbf3",
   "metadata": {},
   "outputs": [],
   "source": [
    "from keras.models import load_model"
   ]
  },
  {
   "cell_type": "code",
   "execution_count": 3,
   "id": "c09a3c45-547f-4aa3-8354-b4d32bdf7b29",
   "metadata": {},
   "outputs": [],
   "source": [
    "import cv2"
   ]
  },
  {
   "cell_type": "code",
   "execution_count": 5,
   "id": "e1e07be2-3223-4d76-834d-c056d08a3841",
   "metadata": {},
   "outputs": [],
   "source": [
    "import numpy as np"
   ]
  },
  {
   "cell_type": "code",
   "execution_count": 7,
   "id": "a0c53415-d4ec-4787-9c13-436518f706ea",
   "metadata": {},
   "outputs": [],
   "source": [
    "model= load_model('train.keras')\n",
    "\n",
    "face_clsfr=cv2.CascadeClassifier('haarcascade_frontalface_default (4).xml')"
   ]
  },
  {
   "cell_type": "code",
   "execution_count": 9,
   "id": "2bbc38ee-9026-4441-a2d9-9529d34f9911",
   "metadata": {},
   "outputs": [],
   "source": [
    "labels_dict= {0:'without_mask',1:'with_mask'}\n",
    "color_dict= {0:(0,0,255),1:(255,0,0)}"
   ]
  },
  {
   "cell_type": "code",
   "execution_count": null,
   "id": "0f0064b3-3884-41e6-9d07-b52376cabc44",
   "metadata": {},
   "outputs": [
    {
     "name": "stdout",
     "output_type": "stream",
     "text": [
      "\u001b[1m1/1\u001b[0m \u001b[32m━━━━━━━━━━━━━━━━━━━━\u001b[0m\u001b[37m\u001b[0m \u001b[1m1s\u001b[0m 708ms/step\n",
      "\u001b[1m1/1\u001b[0m \u001b[32m━━━━━━━━━━━━━━━━━━━━\u001b[0m\u001b[37m\u001b[0m \u001b[1m0s\u001b[0m 127ms/step\n",
      "\u001b[1m1/1\u001b[0m \u001b[32m━━━━━━━━━━━━━━━━━━━━\u001b[0m\u001b[37m\u001b[0m \u001b[1m0s\u001b[0m 121ms/step\n",
      "\u001b[1m1/1\u001b[0m \u001b[32m━━━━━━━━━━━━━━━━━━━━\u001b[0m\u001b[37m\u001b[0m \u001b[1m0s\u001b[0m 138ms/step\n"
     ]
    }
   ],
   "source": [
    "img= cv2.imread('cat crowd (1).jpg')\n",
    "gray= cv2.cvtColor(img,cv2.COLOR_BGR2GRAY)\n",
    "faces= face_clsfr.detectMultiScale(gray,1.1,5)\n",
    "\n",
    "for (x,y,w,h) in faces:\n",
    "    face_img= gray[y:y+w,x:x+h]\n",
    "    resized = cv2.resize(face_img,(100,100))\n",
    "    normalized = resized/255.0\n",
    "    reshaped= np.reshape(normalized,(1,100,100,1))\n",
    "    result= model.predict(reshaped)\n",
    "    label=np.argmax(result,axis=1)[0]\n",
    "    cv2.rectangle(img, (x,y),(x+w, y+h),(0,0,255),5)\n",
    "    cv2.putText(img, labels_dict[label], (x,y-10),cv2.FONT_HERSHEY_SIMPLEX,0.8,(0,255,255),2)\n",
    "\n",
    "\n",
    "cv2.imshow('Face Detected',img)\n",
    "key=cv2.waitKey(0)\n",
    "cv2.destroyAllWindows()"
   ]
  },
  {
   "cell_type": "code",
   "execution_count": null,
   "id": "f4621af3-35f8-40de-9177-f97e162c52d8",
   "metadata": {},
   "outputs": [],
   "source": []
  }
 ],
 "metadata": {
  "kernelspec": {
   "display_name": "Python [conda env:Quick Share]",
   "language": "python",
   "name": "conda-env-Quick_Share-py"
  },
  "language_info": {
   "codemirror_mode": {
    "name": "ipython",
    "version": 3
   },
   "file_extension": ".py",
   "mimetype": "text/x-python",
   "name": "python",
   "nbconvert_exporter": "python",
   "pygments_lexer": "ipython3",
   "version": "3.12.7"
  }
 },
 "nbformat": 4,
 "nbformat_minor": 5
}
